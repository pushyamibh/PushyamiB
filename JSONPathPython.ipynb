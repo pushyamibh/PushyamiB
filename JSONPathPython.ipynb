{
  "nbformat": 4,
  "nbformat_minor": 0,
  "metadata": {
    "colab": {
      "name": "JSONPathPython.ipynb",
      "provenance": [],
      "include_colab_link": true
    },
    "kernelspec": {
      "name": "python3",
      "display_name": "Python 3"
    },
    "language_info": {
      "name": "python"
    }
  },
  "cells": [
    {
      "cell_type": "markdown",
      "metadata": {
        "id": "view-in-github",
        "colab_type": "text"
      },
      "source": [
        "<a href=\"https://colab.research.google.com/github/PushyamiB/PushyamiB/blob/circleci-project-setup/JSONPathPython.ipynb\" target=\"_parent\"><img src=\"https://colab.research.google.com/assets/colab-badge.svg\" alt=\"Open In Colab\"/></a>"
      ]
    },
    {
      "cell_type": "code",
      "execution_count": null,
      "metadata": {
        "id": "mLaDNWJjL11-"
      },
      "outputs": [],
      "source": [
        "a = {\"event_name\":[\"hardbounce\"],\"event_message\":[{\"email_info\":{\"email_reference\":\"2d6f.886f677696abf9a.m1.1038ab30-9706-11ec-b66b-525400fcd3f1.17f362b5563@bounce.swachhvidyalayapuraskar.com\",\"is_smtp_trigger\":0,\"subject\":\"One Time Password For Final Submit\",\"bounce_address\":\"bounce@bounce.swachhvidyalayapuraskar.com\",\"from\":{\"address\":\"zeptomail@swachhvidyalayapuraskar.com\",\"name\":\"SVP2021-2022\"},\"to\":[{\"email_address\":{\"address\":\"sangeetayadav9255@gmail.com\"}}],\"processed_time\":\"2022-02-26T13:14:43Z\",\"object\":\"email\"},\"event_data\":[{\"details\":[{\"reason\":\"bad-mailbox\",\"bounced_recipient\":\"sangeetayadav9255@gmail.com\",\"time\":\"2022-02-26T13:14:47Z\",\"diagnostic_message\":\"5.1.1 The email account that you tried to reach does not exist. Please try 5.1.1 double-checking the recipient\\'s email address for typos or 5.1.1 unnecessary spaces. Learn more at 5.1.1 https://support.google.com/mail/?p=NoSuchUser i1-20020a1709026ac100b0014fc5ec9f25si4173855plt.524 - gsmtp\"}],\"object\":\"hardbounce\"}],\"request_id\":\"2d6f.886f677696abf9a.m1.1038ab30-9706-11ec-b66b-525400fcd3f1.17f362b5563\"}],\"mailagent_key\":\"2d6f.886f677696abf9a.62f87a5807d3a35f\",\"webhook_request_id\":\"2d6f.886f677696abf9a.w1.142ec490-9706-11ec-bf11-525400837ece.17f362b6f59\"}"
      ]
    },
    {
      "cell_type": "code",
      "source": [
        "\n",
        "##The current main bug that we have is if the JSON data has '?' then we are fucked . The json data shouldnt have '?'\n",
        "def getLevelOfPrevConcatStr(concatStr):\n",
        "#     print(concatStr)\n",
        "    if(concatStr==\"\"):\n",
        "        return 0\n",
        "    return int(concatStr.split(\">\")[-1].split(\"?\")[-2])\n",
        "def getLevelOfPrevConcatStr(concatStr):\n",
        "#     print(concatStr)\n",
        "    if(concatStr==\"\"):\n",
        "        return 0\n",
        "    return int(concatStr.split(\">\")[-1].split(\"?\")[-2])\n",
        "def checkRecursivelyDataType(a,target,concatStr,level=0):\n",
        "#     print(\"Input : \",a)\n",
        "    level = level+1\n",
        "    if(isinstance(a,list)):\n",
        "#         print(\"Length of the list : \",a)\n",
        "        for i in range(len(a)):\n",
        "#             print(getLevelOfPrevConcatStr(concatStr),level)\n",
        "            if( concatStr == \"\" or not getLevelOfPrevConcatStr(concatStr)==level ):\n",
        "                concatStr = concatStr + \">\"+str(i)+\"?\"+str(level)+\"?\"\n",
        "            elif(getLevelOfPrevConcatStr(concatStr)==level):\n",
        "                pathList = concatStr.split(\">\")\n",
        "                pathList[-1]=str(i)+\"?\"+str(level)+\"?\"\n",
        "                concatStr=\">\".join(pathList)\n",
        "#                 print(\"After Replacing : \",concatStr)\n",
        "            checkRecursivelyDataType(a[i],target,concatStr,level)\n",
        "    elif(isinstance(a,dict)):\n",
        "        for k,v in a.items():\n",
        "#             print(k,target)\n",
        "            if( concatStr == \"\" or not getLevelOfPrevConcatStr(concatStr)==level ):\n",
        "                concatStr = concatStr + \">\"+str(k)+\"?\"+str(level)+\"?\"\n",
        "                checkRecursivelyDataType(a[k],target,concatStr,level)\n",
        "            elif(getLevelOfPrevConcatStr(concatStr)==level):\n",
        "                pathList = concatStr.split(\">\")\n",
        "                pathList[-1]=str(k)+\"?\"+str(level)+\"?\"\n",
        "                concatStr=\">\".join(pathList)\n",
        "                checkRecursivelyDataType(a[k],target,concatStr,level)\n",
        "            if(k==target):\n",
        "                print(\"JACKPOT! Found value : \",target)\n",
        "                print(\"ConcatStr : \" , concatStr)\n",
        "                return concatStr\n",
        "#             else:\n",
        "#                 concatStr = concatStr + \">\"+str(k)+\"?\"+str(level)+\"?\"\n",
        "                \n",
        "#         print(\"Keys of the dict : \",list(a.keys()))\n",
        "    elif(isinstance(a,str)):\n",
        "#         print(\"Starting string : \",a)\n",
        "        try:\n",
        "            isdict = eval(a)\n",
        "            if(isinstance(isdict,dict)):\n",
        "#                 print(\"Dictionary : \",isdict)\n",
        "                concatStr = concatStr + '|*strAfter*'\n",
        "                checkRecursivelyDataType(isdict,target,concatStr,level)\n",
        "#             print(\"Is it dict:\",isinstance(isdict,dict))\n",
        "                \n",
        "#             print(\"This is indeed Dictionary\")\n",
        "            return False\n",
        "        except Exception as e:\n",
        "#             print(\"Exception : \",e)\n",
        "#             print(\"Returning plain string\")\n",
        "            return False\n",
        "    else:\n",
        "#         print(\"returning plain data type\")\n",
        "        return False"
      ],
      "metadata": {
        "id": "LO3yk4vTy8d7"
      },
      "execution_count": null,
      "outputs": []
    },
    {
      "cell_type": "code",
      "source": [
        "checkRecursivelyDataType(a,\"subject\",\"\")"
      ],
      "metadata": {
        "colab": {
          "base_uri": "https://localhost:8080/"
        },
        "id": "HE2PSJDGzAY-",
        "outputId": "96abe84d-e4f6-42fa-fb95-49951d369627"
      },
      "execution_count": null,
      "outputs": [
        {
          "output_type": "stream",
          "name": "stdout",
          "text": [
            "JACKPOT! Found value :  subject\n",
            "ConcatStr :  >event_message?1?>0?2?>email_info?3?>subject?4?\n"
          ]
        }
      ]
    },
    {
      "cell_type": "code",
      "source": [
        "a[\"event_message\"][0]['email_info']['subject']"
      ],
      "metadata": {
        "colab": {
          "base_uri": "https://localhost:8080/",
          "height": 35
        },
        "id": "z-P8qDeCzOQM",
        "outputId": "dd15eb50-ffcd-4f85-9dd1-a987cc377ffd"
      },
      "execution_count": null,
      "outputs": [
        {
          "output_type": "execute_result",
          "data": {
            "application/vnd.google.colaboratory.intrinsic+json": {
              "type": "string"
            },
            "text/plain": [
              "'One Time Password For Final Submit'"
            ]
          },
          "metadata": {},
          "execution_count": 5
        }
      ]
    }
  ]
}