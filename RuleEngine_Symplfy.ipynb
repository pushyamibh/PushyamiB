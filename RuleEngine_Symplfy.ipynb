{
  "nbformat": 4,
  "nbformat_minor": 0,
  "metadata": {
    "colab": {
      "name": "RuleEngine_Symplfy.ipynb",
      "provenance": [],
      "collapsed_sections": [],
      "include_colab_link": true
    },
    "kernelspec": {
      "name": "python3",
      "display_name": "Python 3"
    },
    "language_info": {
      "name": "python"
    }
  },
  "cells": [
    {
      "cell_type": "markdown",
      "metadata": {
        "id": "view-in-github",
        "colab_type": "text"
      },
      "source": [
        "<a href=\"https://colab.research.google.com/github/PushyamiB/PushyamiB/blob/circleci-project-setup/RuleEngine_Symplfy.ipynb\" target=\"_parent\"><img src=\"https://colab.research.google.com/assets/colab-badge.svg\" alt=\"Open In Colab\"/></a>"
      ]
    },
    {
      "cell_type": "code",
      "source": [
        "import requests\n",
        "import json\n",
        "def post_list_dict(url, list_dict):\n",
        "    return requests.post(url, data=list_dict, headers={'Content-Type': 'application/json'}).content.decode()\n",
        "def getJobIDDetails(jobId):\n",
        "  data='[{\"columnName\": \"sno\",\"columnValue\": \"'+str(jobId)+'\"}]'\n",
        "  outputStr = post_list_dict('https://ezeeapi.meanhost.in/v1/api/Ezee_Reasons_Rejections/filter?andOr=AND&page=1&itemsPerPage=100',data)\n",
        "  #     print(outputStr.content)\n",
        "  diction = json.loads(outputStr)\n",
        "  print(diction)\n",
        "  return diction\n",
        "\n"
      ],
      "metadata": {
        "id": "SSKWnOuL-y8j"
      },
      "execution_count": null,
      "outputs": []
    },
    {
      "cell_type": "code",
      "source": [
        "data='[{\"columnName\": \"sno\",\"columnValue\": \"'+str(134)+'\"}]'\n",
        "outputStr = post_list_dict('https://ezeeapi.meanhost.in/v1/api/Ezee_Reasons_Rejections/filter?andOr=AND&page=1&itemsPerPage=100',data)\n",
        "#     print(outputStr.content)\n",
        "diction = json.loads(outputStr)\n",
        "def returnMismatch(dict_data):\n",
        "  json_data = json.loads(dict_data['document']['records'][0]['jsondata'])\n",
        "  GCC_Match = False\n",
        "  Chassis_Match = False\n",
        "  for i in json_data:\n",
        "    if('field' in i and i['field']=='GCC_spec_img'):\n",
        "      if('ismatched' in i and i['ismatched']==\"Matched\"):\n",
        "        GCC_Match=True\n",
        "    if('field' in i and i['field']=='ChassisNo_img'):\n",
        "      if('ismatched' in i and i['ismatched']==\"Matched\"):\n",
        "        Chassis_Match=True\n",
        "    finalBool = GCC_Match and Chassis_Match\n",
        "  return finalBool"
      ],
      "metadata": {
        "id": "WfyHfpRCXPhD"
      },
      "execution_count": null,
      "outputs": []
    },
    {
      "cell_type": "code",
      "source": [
        "# def populateListFromJobID(jobId):\n",
        "#     dict_data=getJobIDDetails(jobId)\n",
        "#     dict_dmg=[]\n",
        "#     try:\n",
        "#       json_data = diction['document']['records'][0]['jsondata']\n",
        "#     except Exception as e:\n",
        "#       print(\"No json Data present in records\")\n",
        "#       return dict_dmg\n",
        "#     for i in range(len(json_data)):\n",
        "#       if 'Aniitationlist' in json_data[i]:\n",
        "#         for j in range(len(json_data[i]['Aniitationlist'])):\n",
        "#           dict_dmg.append({\"body_part\":json_data[i]['Aniitationlist'][j]['body_part'][0]['id'],\"damage_type\":json_data[i]['Aniitationlist'][j]['damage_type'][0]['id'],\"damage_serverity\":json_data[i]['Aniitationlist'][j]['damage_serverity'][0]['id']}) \n",
        "#         #print(dict_dmg)\n",
        "#     return dict_dmg   \n"
      ],
      "metadata": {
        "id": "Ma-G4minKju7"
      },
      "execution_count": null,
      "outputs": []
    },
    {
      "cell_type": "code",
      "source": [
        "def populateListFromDict(dict_data):\n",
        "    dict_dmg=[]\n",
        "    json_data = json.loads(dict_data['document']['records'][0]['jsondata'])\n",
        "    for i in range(len(json_data)):\n",
        "      # print(json_data[i])\n",
        "      serializeObj(json_data[i])\n",
        "      if 'Aniitationlist' in json_data[i]:\n",
        "        for j in range(len(json_data[i]['Aniitationlist'])):\n",
        "          try:\n",
        "            dict_dmg.append({\"body_part\":json_data[i]['Aniitationlist'][j]['body_part'][0]['id'],\"damage_type\":json_data[i]['Aniitationlist'][j]['damage_type'][0]['id'],\"damage_serverity\":json_data[i]['Aniitationlist'][j]['damage_serverity'][0]['id']}) \n",
        "          except:\n",
        "            print(\"None present : Invalid format , Ignoring current Annotation input\")\n",
        "        #print(dict_dmg)\n",
        "        ##If empty list recomended\n",
        "    return dict_dmg   "
      ],
      "metadata": {
        "id": "e7FQl_lfKUaz"
      },
      "execution_count": null,
      "outputs": []
    },
    {
      "cell_type": "code",
      "source": [
        "flaskRuleEng(153)"
      ],
      "metadata": {
        "colab": {
          "base_uri": "https://localhost:8080/",
          "height": 174
        },
        "id": "QTa497MJW60J",
        "outputId": "2833ed01-f966-4e34-d483-9d6e936b2b44"
      },
      "execution_count": null,
      "outputs": [
        {
          "output_type": "error",
          "ename": "NameError",
          "evalue": "ignored",
          "traceback": [
            "\u001b[0;31m---------------------------------------------------------------------------\u001b[0m",
            "\u001b[0;31mNameError\u001b[0m                                 Traceback (most recent call last)",
            "\u001b[0;32m<ipython-input-5-f36a8b95196c>\u001b[0m in \u001b[0;36m<module>\u001b[0;34m()\u001b[0m\n\u001b[0;32m----> 1\u001b[0;31m \u001b[0mflaskRuleEng\u001b[0m\u001b[0;34m(\u001b[0m\u001b[0;36m153\u001b[0m\u001b[0;34m)\u001b[0m\u001b[0;34m\u001b[0m\u001b[0;34m\u001b[0m\u001b[0m\n\u001b[0m",
            "\u001b[0;31mNameError\u001b[0m: name 'flaskRuleEng' is not defined"
          ]
        }
      ]
    },
    {
      "cell_type": "code",
      "source": [
        "json_d = extractObj('roi.obj')\n",
        "json_d"
      ],
      "metadata": {
        "id": "VbhjigztWkyx"
      },
      "execution_count": null,
      "outputs": []
    },
    {
      "cell_type": "code",
      "source": [
        "import pickle\n",
        "def serializeObj(obj):\n",
        "    with open('roi.obj', 'wb') as roi_freader:\n",
        "      pickle.dump(obj, roi_freader)\n",
        "def extractObj(file_path):\n",
        "  pkl_file= open(file_path, 'rb')\n",
        "  obj = pickle.load(pkl_file)\n",
        "  return obj"
      ],
      "metadata": {
        "id": "nygz2ptWvZlN"
      },
      "execution_count": null,
      "outputs": []
    },
    {
      "cell_type": "code",
      "source": [
        ""
      ],
      "metadata": {
        "id": "gwL43M1hv2xZ"
      },
      "execution_count": null,
      "outputs": []
    },
    {
      "cell_type": "code",
      "source": [
        "def ruleEng(df):\n",
        "    ws_df = df[(df[\"body_part\"]==\"Wind Shield Front\")|(df[\"body_part\"]==\"Wind Shield Rear\")] \n",
        "    # if(len(df[df[\"Body part\"]==\"Wind Shield Front\"])>0 or len(df[df[\"Body part\"]==\"Wind Shield Rear\"])>0):\n",
        "    # len(ws_df)\n",
        "    if(len(ws_df)>0):\n",
        "      # print(\"True\")\n",
        "      if((len(ws_df[ws_df[\"damage_type\"]==\"Cracked\"])>0) | (len(ws_df[ws_df[\"damage_type\"]==\"Broken\"])>0)):\n",
        "        return False\n",
        "    #vh_df = df[df[\"vehType\"]==\"Passenger\"]\n",
        "    #print(vh_df)\n",
        "    vh_df = df\n",
        "    # serializeObj(df)\n",
        "    total_df=df.groupby(['damage_type','body_part']).size()\n",
        "    display(total_df)\n",
        "    # df_2=total_df['damage_serverity']\n",
        "    \n",
        "    # damage_df = total_df['damage_severity']\n",
        "    # vh_sc_df = damage_df.loc['Scratched']\n",
        "    # vh_dnt_df = damage_df.loc['Dent Small']\n",
        "    # vh_Dnt_df = damage_df.loc['Dent Large']\n",
        "    # vh_dnt_df = total_df[total_df['damage_serverity']=='Dent Small']['damage_severity']\n",
        "    # vh_Dnt_df = total_df[total_df['damage_serverity']=='Dent Large']['damage_severity']\n",
        "\n",
        "    if(\"Scratched\" in total_df and len(total_df['Scratched'])>2):\n",
        "      return False\n",
        "    elif(\"Dent Small\" in total_df and len(total_df['Dent Small'])>2):\n",
        "      return False\n",
        "    elif (\"Dent Large\" in total_df and len(total_df['Dent Large'])>1):\n",
        "      return False\n",
        "    elif (\"Tear\" in total_df):\n",
        "      return False\n",
        "    else:\n",
        "      return True\n"
      ],
      "metadata": {
        "id": "bjMEScezy4Yu"
      },
      "execution_count": null,
      "outputs": []
    },
    {
      "cell_type": "code",
      "source": [
        "def flaskRuleEng(jobID):\n",
        "  diction = getJobIDDetails(jobID)\n",
        "  #Checking if json data exists\n",
        "  try:\n",
        "    json_data = json.loads(diction['document']['records'][0]['jsondata'])\n",
        "  except Exception as e:\n",
        "    print(\"No json Data present in records\")\n",
        "    return {\"Recomended\":0} ## Not recomended\n",
        "  dict_dmg=populateListFromDict(diction)\n",
        "  \n",
        "  # if(not returnMismatch(diction)):\n",
        "  #   print(\"Not matching GCC or Chassis number\")\n",
        "  #   return {\"Recomended\":0}\n",
        "  if len(dict_dmg)==0:\n",
        "    print(\"No damages!\")\n",
        "    return {\"Recomendded\":1}\n",
        "\n",
        "  print(\"Data:\" ,dict_dmg)\n",
        "  df_dmg=pd.DataFrame(dict_dmg)\n",
        "  # df_dmg = df_dmg.append({'body_part': 'Hood', 'damage_type': 'Scratched', 'damage_serverity': 'Medium'},ignore_index=True)\n",
        "  # df_dmg = df_dmg.append({'body_part': 'Hood', 'damage_type': 'Dent Small', 'damage_serverity': 'Medium'},ignore_index=True)\n",
        "  display(df_dmg)\n",
        "  output= ruleEng(df_dmg)\n",
        "  if output:\n",
        "    return {\"Recomended\":1}\n",
        "  return {\"Recomended\":0}\n"
      ],
      "metadata": {
        "id": "IkitYkbngmgO"
      },
      "execution_count": null,
      "outputs": []
    },
    {
      "cell_type": "code",
      "source": [
        "import pickle\n",
        "import pandas as pd\n",
        "# pkl_file= open('roi.obj', 'rb')\n",
        "# df = pickle.load(pkl_file)\n",
        "df=pd.DataFrame()\n",
        "df = df.append({'body_part': 'Hood', 'damage_type': 'Dent', 'damage_serverity': 'Medium'},ignore_index=True)\n",
        "# df = df.append({'body_part': 'Hood', 'damage_type': 'Tear', 'damage_serverity': 'Medium'},ignore_index=True)\n",
        "# df = df[['body_part','damage_type']]\n",
        "\n",
        "df"
      ],
      "metadata": {
        "colab": {
          "base_uri": "https://localhost:8080/",
          "height": 81
        },
        "id": "qFJBfO3Xrqqy",
        "outputId": "05ce9ff3-1636-43aa-cd15-51c7afc6e2ff"
      },
      "execution_count": null,
      "outputs": [
        {
          "output_type": "execute_result",
          "data": {
            "text/html": [
              "\n",
              "  <div id=\"df-acdf34a7-f012-4ef3-9e56-f95058e4135f\">\n",
              "    <div class=\"colab-df-container\">\n",
              "      <div>\n",
              "<style scoped>\n",
              "    .dataframe tbody tr th:only-of-type {\n",
              "        vertical-align: middle;\n",
              "    }\n",
              "\n",
              "    .dataframe tbody tr th {\n",
              "        vertical-align: top;\n",
              "    }\n",
              "\n",
              "    .dataframe thead th {\n",
              "        text-align: right;\n",
              "    }\n",
              "</style>\n",
              "<table border=\"1\" class=\"dataframe\">\n",
              "  <thead>\n",
              "    <tr style=\"text-align: right;\">\n",
              "      <th></th>\n",
              "      <th>body_part</th>\n",
              "      <th>damage_serverity</th>\n",
              "      <th>damage_type</th>\n",
              "    </tr>\n",
              "  </thead>\n",
              "  <tbody>\n",
              "    <tr>\n",
              "      <th>0</th>\n",
              "      <td>Hood</td>\n",
              "      <td>Medium</td>\n",
              "      <td>Dent</td>\n",
              "    </tr>\n",
              "  </tbody>\n",
              "</table>\n",
              "</div>\n",
              "      <button class=\"colab-df-convert\" onclick=\"convertToInteractive('df-acdf34a7-f012-4ef3-9e56-f95058e4135f')\"\n",
              "              title=\"Convert this dataframe to an interactive table.\"\n",
              "              style=\"display:none;\">\n",
              "        \n",
              "  <svg xmlns=\"http://www.w3.org/2000/svg\" height=\"24px\"viewBox=\"0 0 24 24\"\n",
              "       width=\"24px\">\n",
              "    <path d=\"M0 0h24v24H0V0z\" fill=\"none\"/>\n",
              "    <path d=\"M18.56 5.44l.94 2.06.94-2.06 2.06-.94-2.06-.94-.94-2.06-.94 2.06-2.06.94zm-11 1L8.5 8.5l.94-2.06 2.06-.94-2.06-.94L8.5 2.5l-.94 2.06-2.06.94zm10 10l.94 2.06.94-2.06 2.06-.94-2.06-.94-.94-2.06-.94 2.06-2.06.94z\"/><path d=\"M17.41 7.96l-1.37-1.37c-.4-.4-.92-.59-1.43-.59-.52 0-1.04.2-1.43.59L10.3 9.45l-7.72 7.72c-.78.78-.78 2.05 0 2.83L4 21.41c.39.39.9.59 1.41.59.51 0 1.02-.2 1.41-.59l7.78-7.78 2.81-2.81c.8-.78.8-2.07 0-2.86zM5.41 20L4 18.59l7.72-7.72 1.47 1.35L5.41 20z\"/>\n",
              "  </svg>\n",
              "      </button>\n",
              "      \n",
              "  <style>\n",
              "    .colab-df-container {\n",
              "      display:flex;\n",
              "      flex-wrap:wrap;\n",
              "      gap: 12px;\n",
              "    }\n",
              "\n",
              "    .colab-df-convert {\n",
              "      background-color: #E8F0FE;\n",
              "      border: none;\n",
              "      border-radius: 50%;\n",
              "      cursor: pointer;\n",
              "      display: none;\n",
              "      fill: #1967D2;\n",
              "      height: 32px;\n",
              "      padding: 0 0 0 0;\n",
              "      width: 32px;\n",
              "    }\n",
              "\n",
              "    .colab-df-convert:hover {\n",
              "      background-color: #E2EBFA;\n",
              "      box-shadow: 0px 1px 2px rgba(60, 64, 67, 0.3), 0px 1px 3px 1px rgba(60, 64, 67, 0.15);\n",
              "      fill: #174EA6;\n",
              "    }\n",
              "\n",
              "    [theme=dark] .colab-df-convert {\n",
              "      background-color: #3B4455;\n",
              "      fill: #D2E3FC;\n",
              "    }\n",
              "\n",
              "    [theme=dark] .colab-df-convert:hover {\n",
              "      background-color: #434B5C;\n",
              "      box-shadow: 0px 1px 3px 1px rgba(0, 0, 0, 0.15);\n",
              "      filter: drop-shadow(0px 1px 2px rgba(0, 0, 0, 0.3));\n",
              "      fill: #FFFFFF;\n",
              "    }\n",
              "  </style>\n",
              "\n",
              "      <script>\n",
              "        const buttonEl =\n",
              "          document.querySelector('#df-acdf34a7-f012-4ef3-9e56-f95058e4135f button.colab-df-convert');\n",
              "        buttonEl.style.display =\n",
              "          google.colab.kernel.accessAllowed ? 'block' : 'none';\n",
              "\n",
              "        async function convertToInteractive(key) {\n",
              "          const element = document.querySelector('#df-acdf34a7-f012-4ef3-9e56-f95058e4135f');\n",
              "          const dataTable =\n",
              "            await google.colab.kernel.invokeFunction('convertToInteractive',\n",
              "                                                     [key], {});\n",
              "          if (!dataTable) return;\n",
              "\n",
              "          const docLinkHtml = 'Like what you see? Visit the ' +\n",
              "            '<a target=\"_blank\" href=https://colab.research.google.com/notebooks/data_table.ipynb>data table notebook</a>'\n",
              "            + ' to learn more about interactive tables.';\n",
              "          element.innerHTML = '';\n",
              "          dataTable['output_type'] = 'display_data';\n",
              "          await google.colab.output.renderOutput(dataTable, element);\n",
              "          const docLink = document.createElement('div');\n",
              "          docLink.innerHTML = docLinkHtml;\n",
              "          element.appendChild(docLink);\n",
              "        }\n",
              "      </script>\n",
              "    </div>\n",
              "  </div>\n",
              "  "
            ],
            "text/plain": [
              "  body_part damage_serverity damage_type\n",
              "0      Hood           Medium        Dent"
            ]
          },
          "metadata": {},
          "execution_count": 11
        }
      ]
    },
    {
      "cell_type": "code",
      "source": [
        "ruleEng(df)"
      ],
      "metadata": {
        "colab": {
          "base_uri": "https://localhost:8080/",
          "height": 91
        },
        "id": "iOBuwaoIBohA",
        "outputId": "f9382ca2-a24e-41e9-c8af-4c1a4627928b"
      },
      "execution_count": null,
      "outputs": [
        {
          "output_type": "display_data",
          "data": {
            "text/plain": [
              "damage_type  body_part\n",
              "Dent         Hood         1\n",
              "dtype: int64"
            ]
          },
          "metadata": {}
        },
        {
          "output_type": "execute_result",
          "data": {
            "text/plain": [
              "True"
            ]
          },
          "metadata": {},
          "execution_count": 12
        }
      ]
    },
    {
      "cell_type": "code",
      "source": [
        "df_sc = df.groupby(['damage_type','body_part']).size()\n",
        "# df_sc = df_sc.groupby(['damage_type']).sum()\n",
        "# df_sc['damage_serverity']['Scratched']\n",
        "# df_sc.loc['damage_type']\n",
        "# df.groupby('damage_type').filter(lambda group: group.size > 2)\n",
        "''\n",
        "# len(df_sc['Dent'])\n",
        "# len(df_sc['Scratched'])\n",
        "'Dent Small' in df_sc"
      ],
      "metadata": {
        "id": "VgDbi3GiwDr4"
      },
      "execution_count": null,
      "outputs": []
    },
    {
      "cell_type": "code",
      "source": [
        "df_3=df['damage_serverity']\n",
        "df_3.loc[\"Scratched\"]"
      ],
      "metadata": {
        "id": "ytPt5L8zr3bA"
      },
      "execution_count": null,
      "outputs": []
    },
    {
      "cell_type": "code",
      "source": [
        "json_data = extractObj(\"roi.obj\")\n",
        "json_data"
      ],
      "metadata": {
        "id": "cSfzvCyxWGrE"
      },
      "execution_count": null,
      "outputs": []
    },
    {
      "cell_type": "code",
      "source": [
        "flaskRuleEng(19)"
      ],
      "metadata": {
        "id": "ny-oAXDdi3Nd"
      },
      "execution_count": null,
      "outputs": []
    },
    {
      "cell_type": "code",
      "source": [
        "vh_df = df[df[\"vehType\"]==\"Passenger\"]\n",
        "agg = vh_df.groupby(by=[\"Damage\",\"Body part\"]).count()\n",
        "total_df=agg.groupby('Damage').sum()\n"
      ],
      "metadata": {
        "id": "B_h8tz_CCA1U"
      },
      "execution_count": null,
      "outputs": []
    },
    {
      "cell_type": "code",
      "source": [
        "def insertfinalResultInDatabase(jobID,pushData):\n",
        "#     data = {\"jsondata\": repr(listObj)}\n",
        "    url = 'https://ezeeapi.meanhost.in/v1/api/Ezee_Reasons_Rejections/'+str(jobID)\n",
        "    headers = {'Content-type': 'application/json'}\n",
        "#     print(pushData)\n",
        "    pushData = json.dumps(pushData).replace('True','true')\n",
        "    r = requests.post(url, data=pushData, headers=headers)\n",
        "    print(r.content.decode())"
      ],
      "metadata": {
        "id": "EKPamBeo1f-r"
      },
      "execution_count": null,
      "outputs": []
    },
    {
      "cell_type": "code",
      "source": [
        "json_data={'0': {\n",
        "        \"Body part\": \"Bumper Front Right Hand Side\",\n",
        "        \"Damage\": \"Scratch\",\n",
        "        \"vehType\": \"Commercial\"\n",
        "    },'1': {\n",
        "        \"Body part\": \"Bumper Front Left Hand Side\",\n",
        "        \"Damage\": \"Scratch\",\n",
        "        \"vehType\": \"Passenger\"\n",
        "    },'3': {\n",
        "        \"Body part\": \"Bumper Front Right Hand Side\",\n",
        "        \"Damage\": \"Scratch\",\n",
        "        \"vehType\": \"Commercial\"\n",
        "    },'4': {\n",
        "        \"Body part\": \"Bumper Front Right Hand Side\",\n",
        "        \"Damage\": \"Dent\",\n",
        "        \"vehType\": \"Passenger\"\n",
        "    },'5': {\n",
        "        \"Body part\": \"Wind Shield Rear\",\n",
        "        \"Damage\": \"Scratch\",\n",
        "        \"vehType\": \"Passenger\"\n",
        "    }\n",
        "}"
      ],
      "metadata": {
        "id": "P5tRMBSCqD4K"
      },
      "execution_count": null,
      "outputs": []
    },
    {
      "cell_type": "code",
      "source": [
        "panel_count,damage_count=countFrequency(json_data)\n",
        "print(panel_count , damage_count)"
      ],
      "metadata": {
        "id": "VQvPnI2nof97"
      },
      "execution_count": null,
      "outputs": []
    },
    {
      "cell_type": "code",
      "source": [
        "import pandas as pd\n",
        "df = pd.DataFrame(list(json_data.values()))\n",
        "k = df.groupby(by=[\"Body part\",\"Damage\",\"vehType\"]).size()\n",
        "ws_df = df[df[\"Body part\"]==\"Wind Shield Rear\"]\n",
        "k"
      ],
      "metadata": {
        "id": "IEVyMBR649Qw"
      },
      "execution_count": null,
      "outputs": []
    },
    {
      "cell_type": "code",
      "source": [
        "k = df.groupby(by=[\"Damage\",\"Body part\",\"vehType\"]).count()\n",
        "k"
      ],
      "metadata": {
        "id": "d8lQZ9EejjkP"
      },
      "execution_count": null,
      "outputs": []
    },
    {
      "cell_type": "code",
      "source": [
        "df"
      ],
      "metadata": {
        "id": "AofvCQBWYVYW"
      },
      "execution_count": null,
      "outputs": []
    },
    {
      "cell_type": "code",
      "source": [
        "vh_df = df[df[\"vehType\"]==\"Passenger\"]\n",
        "agg = vh_df.groupby(by=[\"Damage\",\"Body part\"]).count()\n",
        "agg.groupby('Damage').sum()\n"
      ],
      "metadata": {
        "id": "N9sqfvMqkas0"
      },
      "execution_count": null,
      "outputs": []
    },
    {
      "cell_type": "code",
      "source": [
        "df_dmg"
      ],
      "metadata": {
        "id": "swWGI_GMqhWU"
      },
      "execution_count": null,
      "outputs": []
    },
    {
      "cell_type": "code",
      "source": [
        "from numpy.core.numeric import False_\n",
        "def ruleEng_v1(df):\n",
        "    ws_df = df[(df[\"body_part\"]==\"Wind Shield Front\")|(df[\"body_part\"]==\"Wind Shield Rear\")] \n",
        "    # if(len(df[df[\"Body part\"]==\"Wind Shield Front\"])>0 or len(df[df[\"Body part\"]==\"Wind Shield Rear\"])>0):\n",
        "    len(ws_df)\n",
        "    if(len(ws_df)>0):\n",
        "      # print(\"True\")\n",
        "      if(len(ws_df[ws_df[\"damage_type\"]==\"Scratch\"])>0):\n",
        "        return True\n",
        "    #vh_df = df[df[\"vehType\"]==\"Passenger\"]\n",
        "    #print(vh_df)\n",
        "    if df[\"vehType\"]==\"Passenger\":\n",
        "      vh_df = df[df[\"vehType\"]==\"Passenger\"]\n",
        "      vh_sc_df = vh_df[vh_df['damage_type']=='Scratch']\n",
        "      vh_dnt_df = vh_df[vh_df['damage_type']=='Dent_Small']\n",
        "      vh_Dnt_df = vh_df[vh_df['damage_type']=='Dent_Large']\n",
        "      if(len(vh_sc_df)>3):\n",
        "        return False\n",
        "      elif(len(vh_dnt_df)>2):\n",
        "        return False\n",
        "      elif(len(vh_Dnt_df)>1):\n",
        "        return False\n",
        "    else:\n",
        "      return True\n",
        "    if df[\"vehType\"]==\"Commercial\": \n",
        "      cm_df = df[df[\"vehType\"]==\"Commercial\"]\n",
        "      cm_sc_df = cm_df[cm_df['Damage']=='Scratch']\n",
        "      cm_dnt_df = cm_df[cm_df['Damage']=='Dent_Small']\n",
        "      cm_Dnt_df = cm_df[cm_df['Damage']=='Dent_Large']\n",
        "      if(len(cm_sc_df)>3):\n",
        "        return False\n",
        "      elif(len(cm_dnt_df)>3):\n",
        "        return False\n",
        "      elif(len(cm_Dnt_df)>2):\n",
        "        return False\n",
        "      else:\n",
        "        return True  \n",
        "         "
      ],
      "metadata": {
        "id": "LoWbmGOHa0vf"
      },
      "execution_count": null,
      "outputs": []
    },
    {
      "cell_type": "code",
      "source": [
        "def ruleEngine(vehType , bodyPanel, damage_json):\n",
        "  if(bodyPanel == \"Wind Shield Front\" or bodyPanel == \"Wind Shield Rear\"):\n",
        "    if(\"Scratch\" in damage_json):\n",
        "      return True\n",
        "  else:\n",
        "      if(vehType==\"Passenger\"):\n",
        "        if(\"Scratch\" in damage_json and damage_json[\"Scratch\"]> 3):\n",
        "          return True\n",
        "        elif(\"Dent_Small\" in damage_json and damage_json[\"Dent_Small\"]> 2):\n",
        "          return True\n",
        "        elif(\"Dent_Large\" in damage_json and damage_json[\"Dent_Large\"]> 1):\n",
        "          return True\n",
        "      else:\n",
        "        if(\"Scratch\" in damage_json and damage_json[\"Scratch\"]> 3):\n",
        "          return True\n",
        "        elif(\"Dent_Small\" in damage_json and damage_json[\"Dent_Small\"]> 2):\n",
        "          return True\n",
        "        elif(\"Dent_Large\" in damage_json and damage_json[\"Dent_Large\"]> 2):\n",
        "          return True\n",
        "  return False\n"
      ],
      "metadata": {
        "id": "XicKXSQgvHnB"
      },
      "execution_count": null,
      "outputs": []
    },
    {
      "cell_type": "code",
      "source": [
        "def countFrequency(json_data):\n",
        "    freq_part= {}\n",
        "    windShield_dict = {}\n",
        "    for item in json_data.items():\n",
        "          if (item[1]['Damage'] in freq_part):\n",
        "            # print('Output',freq_part[item[1]['Body part']])\n",
        "            pass   \n",
        "          else:\n",
        "              freq_part[item[1]['Damage']]={}\n",
        "          # if(\"Wind Shield Front\" in item[1]['Body part'] or \"Wind Shield Rear\" in item[1]['Body part']):\n",
        "          #   windShield_dict[]\n",
        "          if(item[1]['Body part'] in freq_part[item[1]['Damage']]):\n",
        "                freq_part[item[1]['Damage']][item[1]['Body part']] += 1\n",
        "                \n",
        "          else:\n",
        "            freq_part[item[1]['Damage']][item[1]['Body part']]= 1 \n",
        "\n",
        "    print(freq_part)\n",
        "    diction = {}\n",
        "    for k,v in freq_part.items(): \n",
        "      diction[k]=len(v.items())\n",
        "    print(diction)\n",
        "    return freq_part,diction"
      ],
      "metadata": {
        "id": "V1_wuJFGZod6"
      },
      "execution_count": null,
      "outputs": []
    },
    {
      "cell_type": "code",
      "source": [
        "\n",
        "\n",
        "freq_part= {}\n",
        "for item in json_data.items():\n",
        "      if (item[1]['Body part'] in freq_part):\n",
        "         # print('Output',freq_part[item[1]['Body part']])\n",
        "         pass   \n",
        "      else:\n",
        "          freq_part[item[1]['Body part']]={}\n",
        "      if(item[1]['Damage'] in freq_part[item[1]['Body part']]):\n",
        "            #print(freq_part[item[1]['Body part']['Damage']])\n",
        "            freq_part[item[1]['Body part']][item[1]['Damage']] += 1\n",
        "            #print(freq_part[item[1]['Body part']][item[1]['Damage']])\n",
        "      else:\n",
        "        freq_part[item[1]['Body part']][item[1]['Damage']]= 1    \n",
        "          #print(freq_part)\n",
        "#print(freq_part[item[1]['Body part']])     \n",
        "print(freq_part)     \n",
        "# for key, value in freq_part.items():\n",
        "#     print (\"% s : % s\"%(key, value))"
      ],
      "metadata": {
        "id": "10cfqHrC8fkC"
      },
      "execution_count": null,
      "outputs": []
    },
    {
      "cell_type": "code",
      "source": [
        "def CountFrequency(my_list):\n",
        "    freq_damage = {}\n",
        "    for item in my_list:\n",
        "        if (item in freq_damage):\n",
        "            freq_damage[item] += 1\n",
        "        else:\n",
        "            freq_damage[item] = 1\n",
        "    for key, value in freq_damage.items():\n",
        "        print (\"% s : % s\"%(key, value))"
      ],
      "metadata": {
        "id": "AqBZkG-V41Ic"
      },
      "execution_count": null,
      "outputs": []
    }
  ]
}